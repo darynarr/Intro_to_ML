{
 "cells": [
  {
   "cell_type": "code",
   "execution_count": 1,
   "metadata": {},
   "outputs": [],
   "source": [
    "import pandas as pd\n",
    "import numpy as np\n",
    "\n",
    "from sklearn.metrics import mean_squared_error, median_absolute_error"
   ]
  },
  {
   "cell_type": "code",
   "execution_count": 2,
   "metadata": {},
   "outputs": [],
   "source": [
    "df = pd.read_csv('house_prices.txt', sep='\\t')"
   ]
  },
  {
   "cell_type": "code",
   "execution_count": 3,
   "metadata": {},
   "outputs": [
    {
     "data": {
      "text/html": [
       "<div>\n",
       "<style scoped>\n",
       "    .dataframe tbody tr th:only-of-type {\n",
       "        vertical-align: middle;\n",
       "    }\n",
       "\n",
       "    .dataframe tbody tr th {\n",
       "        vertical-align: top;\n",
       "    }\n",
       "\n",
       "    .dataframe thead th {\n",
       "        text-align: right;\n",
       "    }\n",
       "</style>\n",
       "<table border=\"1\" class=\"dataframe\">\n",
       "  <thead>\n",
       "    <tr style=\"text-align: right;\">\n",
       "      <th></th>\n",
       "      <th>Value</th>\n",
       "      <th>Price</th>\n",
       "      <th>Square_Footage</th>\n",
       "      <th>Number_Bedrooms</th>\n",
       "    </tr>\n",
       "  </thead>\n",
       "  <tbody>\n",
       "    <tr>\n",
       "      <td>0</td>\n",
       "      <td>119.37</td>\n",
       "      <td>121.87</td>\n",
       "      <td>20.5</td>\n",
       "      <td>4.0</td>\n",
       "    </tr>\n",
       "    <tr>\n",
       "      <td>1</td>\n",
       "      <td>148.93</td>\n",
       "      <td>150.25</td>\n",
       "      <td>22.0</td>\n",
       "      <td>4.0</td>\n",
       "    </tr>\n",
       "    <tr>\n",
       "      <td>2</td>\n",
       "      <td>130.39</td>\n",
       "      <td>122.78</td>\n",
       "      <td>15.9</td>\n",
       "      <td>3.0</td>\n",
       "    </tr>\n",
       "    <tr>\n",
       "      <td>3</td>\n",
       "      <td>135.70</td>\n",
       "      <td>144.35</td>\n",
       "      <td>18.6</td>\n",
       "      <td>3.0</td>\n",
       "    </tr>\n",
       "    <tr>\n",
       "      <td>4</td>\n",
       "      <td>126.30</td>\n",
       "      <td>116.20</td>\n",
       "      <td>12.1</td>\n",
       "      <td>2.0</td>\n",
       "    </tr>\n",
       "    <tr>\n",
       "      <td>...</td>\n",
       "      <td>...</td>\n",
       "      <td>...</td>\n",
       "      <td>...</td>\n",
       "      <td>...</td>\n",
       "    </tr>\n",
       "    <tr>\n",
       "      <td>145</td>\n",
       "      <td>126.67</td>\n",
       "      <td>128.52</td>\n",
       "      <td>14.3</td>\n",
       "      <td>2.0</td>\n",
       "    </tr>\n",
       "    <tr>\n",
       "      <td>146</td>\n",
       "      <td>137.57</td>\n",
       "      <td>132.02</td>\n",
       "      <td>17.1</td>\n",
       "      <td>4.0</td>\n",
       "    </tr>\n",
       "    <tr>\n",
       "      <td>147</td>\n",
       "      <td>133.46</td>\n",
       "      <td>128.03</td>\n",
       "      <td>15.8</td>\n",
       "      <td>2.0</td>\n",
       "    </tr>\n",
       "    <tr>\n",
       "      <td>148</td>\n",
       "      <td>163.57</td>\n",
       "      <td>168.06</td>\n",
       "      <td>23.5</td>\n",
       "      <td>5.0</td>\n",
       "    </tr>\n",
       "    <tr>\n",
       "      <td>149</td>\n",
       "      <td>118.46</td>\n",
       "      <td>114.92</td>\n",
       "      <td>14.2</td>\n",
       "      <td>2.0</td>\n",
       "    </tr>\n",
       "  </tbody>\n",
       "</table>\n",
       "<p>150 rows × 4 columns</p>\n",
       "</div>"
      ],
      "text/plain": [
       "      Value   Price  Square_Footage  Number_Bedrooms\n",
       "0    119.37  121.87            20.5              4.0\n",
       "1    148.93  150.25            22.0              4.0\n",
       "2    130.39  122.78            15.9              3.0\n",
       "3    135.70  144.35            18.6              3.0\n",
       "4    126.30  116.20            12.1              2.0\n",
       "..      ...     ...             ...              ...\n",
       "145  126.67  128.52            14.3              2.0\n",
       "146  137.57  132.02            17.1              4.0\n",
       "147  133.46  128.03            15.8              2.0\n",
       "148  163.57  168.06            23.5              5.0\n",
       "149  118.46  114.92            14.2              2.0\n",
       "\n",
       "[150 rows x 4 columns]"
      ]
     },
     "execution_count": 3,
     "metadata": {},
     "output_type": "execute_result"
    }
   ],
   "source": [
    "df"
   ]
  },
  {
   "cell_type": "code",
   "execution_count": 4,
   "metadata": {},
   "outputs": [],
   "source": [
    "class LinearRegression():\n",
    "    def __init__(self, max_iter=100000, alpha=0.0001):\n",
    "        self.max_iter = max_iter\n",
    "        self.alpha = alpha\n",
    "    \n",
    "    def calculate_cost(self):\n",
    "        self.J = (1/(2 * self.m)) * np.sum((self.h - self.y)**2)\n",
    "        \n",
    "    def calculate_theta(self):\n",
    "        for j, _ in enumerate(self.theta):\n",
    "            self.theta[j] = self.theta[j] \\\n",
    "            - (self.alpha / self.m) * np.sum(np.dot((self.h - self.y), self.X[:,j].T))\n",
    "\n",
    " \n",
    "    def fit(self, X, y):\n",
    "        self.X = np.array(X)\n",
    "        self.X = np.insert(self.X, obj = 0, values = 1, axis=1)\n",
    "        self.y = np.array(y)\n",
    "        \n",
    "        self.m = self.X.shape[0]\n",
    "        self.n = self.X.shape[1]\n",
    "        \n",
    "        self.theta=np.ones(self.n)\n",
    "        self.J = 1e100\n",
    "        \n",
    "        for _ in range(self.max_iter):\n",
    "            prev_J = self.J\n",
    "            prev_theta = self.theta.copy()\n",
    "            self.h = np.matmul(self.X, self.theta)\n",
    "            self.calculate_cost()\n",
    "            self.calculate_theta()\n",
    "            if prev_J < self.J:\n",
    "                self.J = prev_J\n",
    "                self.theta = prev_theta\n",
    "                self.h = np.matmul(self.X, self.theta)\n",
    "                break\n",
    "            \n",
    "        \n",
    "    def predict(self, X_test):\n",
    "        self.X_test = np.array(X_test)\n",
    "        self.X_test = np.insert(self.X_test, obj = 0, values = 1, axis=1)\n",
    "        return np.dot(self.X_test, self.theta)"
   ]
  },
  {
   "cell_type": "code",
   "execution_count": 14,
   "metadata": {},
   "outputs": [],
   "source": [
    "lr = LinearRegression()\n",
    "lr.fit(df.drop(['Price', 'Value'], axis=1), df['Value'])"
   ]
  },
  {
   "cell_type": "code",
   "execution_count": 15,
   "metadata": {},
   "outputs": [
    {
     "data": {
      "text/plain": [
       "array([10.35591184,  7.7110678 , -4.70830526])"
      ]
     },
     "execution_count": 15,
     "metadata": {},
     "output_type": "execute_result"
    }
   ],
   "source": [
    "lr.theta"
   ]
  },
  {
   "cell_type": "code",
   "execution_count": 16,
   "metadata": {
    "scrolled": true
   },
   "outputs": [
    {
     "data": {
      "text/plain": [
       "9.056303316855946"
      ]
     },
     "execution_count": 16,
     "metadata": {},
     "output_type": "execute_result"
    }
   ],
   "source": [
    "median_absolute_error(df['Value'], lr.predict(df.drop(['Price', 'Value'], axis=1)))"
   ]
  },
  {
   "cell_type": "code",
   "execution_count": null,
   "metadata": {},
   "outputs": [],
   "source": []
  }
 ],
 "metadata": {
  "kernelspec": {
   "display_name": "Python [conda env:deeplearning]",
   "language": "python",
   "name": "conda-env-deeplearning-py"
  },
  "language_info": {
   "codemirror_mode": {
    "name": "ipython",
    "version": 3
   },
   "file_extension": ".py",
   "mimetype": "text/x-python",
   "name": "python",
   "nbconvert_exporter": "python",
   "pygments_lexer": "ipython3",
   "version": "3.7.4"
  }
 },
 "nbformat": 4,
 "nbformat_minor": 2
}
